{
 "cells": [
  {
   "cell_type": "markdown",
   "metadata": {},
   "source": [
    "# Master Document - Uber Challenge Team 3"
   ]
  },
  {
   "cell_type": "markdown",
   "metadata": {},
   "source": [
    "## Statement of Purpose\n",
    "The purpose of this document is to take the inital data frame created by the \"starter notebook\" and to add additional features that the members of our team have engineered to increase the predictive accuracy of our model. "
   ]
  },
  {
   "cell_type": "markdown",
   "metadata": {},
   "source": [
    "### Step 1: Starter Notebook\n",
    "\n",
    "The first chunk of code is just formatting code borrowed from the starter notebook to set up our data frame in the correct format for submission - nothing else. "
   ]
  },
  {
   "cell_type": "code",
   "execution_count": 1,
   "metadata": {},
   "outputs": [],
   "source": [
    "import pandas as pd\n",
    "import numpy as np\n",
    "from matplotlib import pyplot as plt\n",
    "\n",
    "#We'll generate this later, so don't download it if you're in a hurry\n",
    "sample_sub = pd.read_csv('SampleSubmission.csv');sample_sub.head()\n",
    "\n",
    "# Make sure train is in the folder where this notebook is running\n",
    "data = pd.read_csv('train.csv', \n",
    "                   parse_dates = ['Occurrence Local Date Time'])\n",
    "data = data.drop(\"Status\", axis=1)\n",
    "data[\"longitude\"] = pd.to_numeric(data.longitude, errors='coerce')\n",
    "\n",
    "# Train on 2017\n",
    "train = data.loc[data['Occurrence Local Date Time'] < '2018-01-01']\n",
    "train = train.loc[data['Occurrence Local Date Time'] >= '2017-01-01']\n",
    "\n",
    "# Test locally on the last part of 2018\n",
    "local_test = data.loc[data['Occurrence Local Date Time'] < '2019-01-01']\n",
    "local_test = local_test.loc[local_test['Occurrence Local Date Time'] >= '2018-09-01']\n",
    "\n",
    "# Create a dataframe with a column for each segment_id (sid)\n",
    "# Each row represents an hour.\n",
    "sids = data['road_segment_id'].unique()\n",
    "\n",
    "dts = pd.date_range('2017-01-01',\n",
    "                    '2018-01-01',\n",
    "                    freq=\"1h\")\n",
    "tr = pd.DataFrame({'datetime':dts})\n",
    "\n",
    "for sid in sids:\n",
    "    tr[str(sid)] = 0\n",
    "    events = train.loc[train['road_segment_id'] == sid]\n",
    "    dts = events['Occurrence Local Date Time'].dt.round('H')\n",
    "    dates = dts.astype(str).unique()\n",
    "    tr.loc[tr['datetime'].isin(dates), sid] = 1\n",
    "\n",
    "\n",
    "# Reshape this as in sample submission\n",
    "# I add some extra columns that may be useful\n",
    "train = pd.DataFrame({\n",
    "    'datetime x segment_id':np.concatenate([[str(x) + \" x \" + str(c) \n",
    "                                             for c in sids] \n",
    "                                            for x in tr['datetime']]),\n",
    "    'datetime':np.concatenate([[str(x) for c in sids] for x in tr['datetime']]),\n",
    "    'segment_id':np.concatenate([[str(c) for c in sids] for x in tr['datetime']]),\n",
    "    'y':tr[sids].values.flatten()\n",
    "})\n",
    "\n",
    "# Same for local test (test from now on)\n",
    "dts = pd.date_range('2018-09-01','2018-12-31',\n",
    "                    freq=\"1h\")\n",
    "tr = pd.DataFrame({'datetime':dts})\n",
    "\n",
    "for sid in sids:\n",
    "    tr[str(sid)] = 0\n",
    "    events = local_test.loc[local_test['road_segment_id'] == sid]\n",
    "    dts = events['Occurrence Local Date Time'].dt.round('H')\n",
    "    dates = dts.astype(str).unique()\n",
    "    tr.loc[tr['datetime'].isin(dates), sid] = 1\n",
    "    \n",
    "test = pd.DataFrame({\n",
    "    'datetime x segment_id':np.concatenate([[str(x) + \" x \" + str(c) \n",
    "                                             for c in sids] \n",
    "                                            for x in tr['datetime']]),\n",
    "    'datetime':np.concatenate([[str(x) for c in sids] for x in tr['datetime']]),\n",
    "    'segment_id':np.concatenate([[str(c) for c in sids] for x in tr['datetime']]),\n",
    "    'y':tr[sids].values.flatten()\n",
    "})\n",
    "\n",
    "train['datetime'] = pd.to_datetime(train['datetime'])\n",
    "train['day'] = train['datetime'].dt.day_name()\n",
    "train['min'] = train['datetime'].dt.hour*60+train['datetime'].dt.minute\n",
    "locations = data.groupby('road_segment_id').mean()[['longitude', 'latitude']]\n",
    "locations.head(2)\n",
    "train = pd.merge(train, locations, left_on='segment_id', right_on='road_segment_id')\n",
    "test['datetime'] = pd.to_datetime(test['datetime'])\n",
    "test['day'] = train['datetime'].dt.day_name()\n",
    "test['min'] = train['datetime'].dt.hour*60+train['datetime'].dt.minute\n",
    "locations = data.groupby('road_segment_id').mean()[['longitude', 'latitude']]\n",
    "locations.head(2)\n",
    "test = pd.merge(test, locations, left_on='segment_id', right_on='road_segment_id')"
   ]
  },
  {
   "cell_type": "markdown",
   "metadata": {},
   "source": [
    "### Step 2: Feature Engineering\n",
    "\n",
    "Now that our data is in an acceptable format for submission, the next step is to append additional predictors to our data frame to hopefully improve model accuracy."
   ]
  },
  {
   "cell_type": "markdown",
   "metadata": {},
   "source": [
    "#### i. Time Data\n",
    "\n",
    "We will be adding the day of the week that the incident occurred on, as well as the period of the day (e.g. morning, afternoon, night). "
   ]
  },
  {
   "cell_type": "code",
   "execution_count": 2,
   "metadata": {},
   "outputs": [
    {
     "data": {
      "text/html": [
       "<div>\n",
       "<style scoped>\n",
       "    .dataframe tbody tr th:only-of-type {\n",
       "        vertical-align: middle;\n",
       "    }\n",
       "\n",
       "    .dataframe tbody tr th {\n",
       "        vertical-align: top;\n",
       "    }\n",
       "\n",
       "    .dataframe thead th {\n",
       "        text-align: right;\n",
       "    }\n",
       "</style>\n",
       "<table border=\"1\" class=\"dataframe\">\n",
       "  <thead>\n",
       "    <tr style=\"text-align: right;\">\n",
       "      <th></th>\n",
       "      <th>datetime x segment_id</th>\n",
       "      <th>datetime</th>\n",
       "      <th>segment_id</th>\n",
       "      <th>y</th>\n",
       "      <th>day</th>\n",
       "      <th>min</th>\n",
       "      <th>longitude</th>\n",
       "      <th>latitude</th>\n",
       "    </tr>\n",
       "  </thead>\n",
       "  <tbody>\n",
       "    <tr>\n",
       "      <th>0</th>\n",
       "      <td>2017-01-01 00:00:00 x S0B3CGQ</td>\n",
       "      <td>2017-01-01 00:00:00</td>\n",
       "      <td>S0B3CGQ</td>\n",
       "      <td>0</td>\n",
       "      <td>Sunday</td>\n",
       "      <td>0</td>\n",
       "      <td>18.541422</td>\n",
       "      <td>-33.888613</td>\n",
       "    </tr>\n",
       "    <tr>\n",
       "      <th>1</th>\n",
       "      <td>2017-01-01 01:00:00 x S0B3CGQ</td>\n",
       "      <td>2017-01-01 01:00:00</td>\n",
       "      <td>S0B3CGQ</td>\n",
       "      <td>0</td>\n",
       "      <td>Sunday</td>\n",
       "      <td>60</td>\n",
       "      <td>18.541422</td>\n",
       "      <td>-33.888613</td>\n",
       "    </tr>\n",
       "    <tr>\n",
       "      <th>2</th>\n",
       "      <td>2017-01-01 02:00:00 x S0B3CGQ</td>\n",
       "      <td>2017-01-01 02:00:00</td>\n",
       "      <td>S0B3CGQ</td>\n",
       "      <td>0</td>\n",
       "      <td>Sunday</td>\n",
       "      <td>120</td>\n",
       "      <td>18.541422</td>\n",
       "      <td>-33.888613</td>\n",
       "    </tr>\n",
       "    <tr>\n",
       "      <th>3</th>\n",
       "      <td>2017-01-01 03:00:00 x S0B3CGQ</td>\n",
       "      <td>2017-01-01 03:00:00</td>\n",
       "      <td>S0B3CGQ</td>\n",
       "      <td>0</td>\n",
       "      <td>Sunday</td>\n",
       "      <td>180</td>\n",
       "      <td>18.541422</td>\n",
       "      <td>-33.888613</td>\n",
       "    </tr>\n",
       "    <tr>\n",
       "      <th>4</th>\n",
       "      <td>2017-01-01 04:00:00 x S0B3CGQ</td>\n",
       "      <td>2017-01-01 04:00:00</td>\n",
       "      <td>S0B3CGQ</td>\n",
       "      <td>0</td>\n",
       "      <td>Sunday</td>\n",
       "      <td>240</td>\n",
       "      <td>18.541422</td>\n",
       "      <td>-33.888613</td>\n",
       "    </tr>\n",
       "  </tbody>\n",
       "</table>\n",
       "</div>"
      ],
      "text/plain": [
       "           datetime x segment_id            datetime segment_id  y     day  \\\n",
       "0  2017-01-01 00:00:00 x S0B3CGQ 2017-01-01 00:00:00    S0B3CGQ  0  Sunday   \n",
       "1  2017-01-01 01:00:00 x S0B3CGQ 2017-01-01 01:00:00    S0B3CGQ  0  Sunday   \n",
       "2  2017-01-01 02:00:00 x S0B3CGQ 2017-01-01 02:00:00    S0B3CGQ  0  Sunday   \n",
       "3  2017-01-01 03:00:00 x S0B3CGQ 2017-01-01 03:00:00    S0B3CGQ  0  Sunday   \n",
       "4  2017-01-01 04:00:00 x S0B3CGQ 2017-01-01 04:00:00    S0B3CGQ  0  Sunday   \n",
       "\n",
       "   min  longitude   latitude  \n",
       "0    0  18.541422 -33.888613  \n",
       "1   60  18.541422 -33.888613  \n",
       "2  120  18.541422 -33.888613  \n",
       "3  180  18.541422 -33.888613  \n",
       "4  240  18.541422 -33.888613  "
      ]
     },
     "execution_count": 2,
     "metadata": {},
     "output_type": "execute_result"
    }
   ],
   "source": [
    "# first examine data frame\n",
    "train.head()"
   ]
  },
  {
   "cell_type": "code",
   "execution_count": 3,
   "metadata": {},
   "outputs": [
    {
     "data": {
      "text/html": [
       "<div>\n",
       "<style scoped>\n",
       "    .dataframe tbody tr th:only-of-type {\n",
       "        vertical-align: middle;\n",
       "    }\n",
       "\n",
       "    .dataframe tbody tr th {\n",
       "        vertical-align: top;\n",
       "    }\n",
       "\n",
       "    .dataframe thead th {\n",
       "        text-align: right;\n",
       "    }\n",
       "</style>\n",
       "<table border=\"1\" class=\"dataframe\">\n",
       "  <thead>\n",
       "    <tr style=\"text-align: right;\">\n",
       "      <th></th>\n",
       "      <th>datetime x segment_id</th>\n",
       "      <th>datetime</th>\n",
       "      <th>segment_id</th>\n",
       "      <th>y</th>\n",
       "      <th>day</th>\n",
       "      <th>min</th>\n",
       "      <th>longitude</th>\n",
       "      <th>latitude</th>\n",
       "    </tr>\n",
       "  </thead>\n",
       "  <tbody>\n",
       "    <tr>\n",
       "      <th>0</th>\n",
       "      <td>2018-09-01 00:00:00 x S0B3CGQ</td>\n",
       "      <td>2018-09-01 00:00:00</td>\n",
       "      <td>S0B3CGQ</td>\n",
       "      <td>0</td>\n",
       "      <td>Sunday</td>\n",
       "      <td>0</td>\n",
       "      <td>18.541422</td>\n",
       "      <td>-33.888613</td>\n",
       "    </tr>\n",
       "    <tr>\n",
       "      <th>1</th>\n",
       "      <td>2018-09-01 01:00:00 x S0B3CGQ</td>\n",
       "      <td>2018-09-01 01:00:00</td>\n",
       "      <td>S0B3CGQ</td>\n",
       "      <td>0</td>\n",
       "      <td>Monday</td>\n",
       "      <td>1260</td>\n",
       "      <td>18.541422</td>\n",
       "      <td>-33.888613</td>\n",
       "    </tr>\n",
       "    <tr>\n",
       "      <th>2</th>\n",
       "      <td>2018-09-01 02:00:00 x S0B3CGQ</td>\n",
       "      <td>2018-09-01 02:00:00</td>\n",
       "      <td>S0B3CGQ</td>\n",
       "      <td>0</td>\n",
       "      <td>Wednesday</td>\n",
       "      <td>1080</td>\n",
       "      <td>18.541422</td>\n",
       "      <td>-33.888613</td>\n",
       "    </tr>\n",
       "    <tr>\n",
       "      <th>3</th>\n",
       "      <td>2018-09-01 03:00:00 x S0B3CGQ</td>\n",
       "      <td>2018-09-01 03:00:00</td>\n",
       "      <td>S0B3CGQ</td>\n",
       "      <td>0</td>\n",
       "      <td>Friday</td>\n",
       "      <td>900</td>\n",
       "      <td>18.541422</td>\n",
       "      <td>-33.888613</td>\n",
       "    </tr>\n",
       "    <tr>\n",
       "      <th>4</th>\n",
       "      <td>2018-09-01 04:00:00 x S0B3CGQ</td>\n",
       "      <td>2018-09-01 04:00:00</td>\n",
       "      <td>S0B3CGQ</td>\n",
       "      <td>0</td>\n",
       "      <td>Sunday</td>\n",
       "      <td>720</td>\n",
       "      <td>18.541422</td>\n",
       "      <td>-33.888613</td>\n",
       "    </tr>\n",
       "  </tbody>\n",
       "</table>\n",
       "</div>"
      ],
      "text/plain": [
       "           datetime x segment_id            datetime segment_id  y        day  \\\n",
       "0  2018-09-01 00:00:00 x S0B3CGQ 2018-09-01 00:00:00    S0B3CGQ  0     Sunday   \n",
       "1  2018-09-01 01:00:00 x S0B3CGQ 2018-09-01 01:00:00    S0B3CGQ  0     Monday   \n",
       "2  2018-09-01 02:00:00 x S0B3CGQ 2018-09-01 02:00:00    S0B3CGQ  0  Wednesday   \n",
       "3  2018-09-01 03:00:00 x S0B3CGQ 2018-09-01 03:00:00    S0B3CGQ  0     Friday   \n",
       "4  2018-09-01 04:00:00 x S0B3CGQ 2018-09-01 04:00:00    S0B3CGQ  0     Sunday   \n",
       "\n",
       "    min  longitude   latitude  \n",
       "0     0  18.541422 -33.888613  \n",
       "1  1260  18.541422 -33.888613  \n",
       "2  1080  18.541422 -33.888613  \n",
       "3   900  18.541422 -33.888613  \n",
       "4   720  18.541422 -33.888613  "
      ]
     },
     "execution_count": 3,
     "metadata": {},
     "output_type": "execute_result"
    }
   ],
   "source": [
    "test.head()"
   ]
  },
  {
   "cell_type": "code",
   "execution_count": 4,
   "metadata": {},
   "outputs": [
    {
     "name": "stderr",
     "output_type": "stream",
     "text": [
      "/Applications/anaconda3/lib/python3.7/site-packages/pandas/core/ops/array_ops.py:253: FutureWarning: elementwise comparison failed; returning scalar instead, but in the future will perform elementwise comparison\n",
      "  res_values = method(rvalues)\n"
     ]
    },
    {
     "data": {
      "text/html": [
       "<div>\n",
       "<style scoped>\n",
       "    .dataframe tbody tr th:only-of-type {\n",
       "        vertical-align: middle;\n",
       "    }\n",
       "\n",
       "    .dataframe tbody tr th {\n",
       "        vertical-align: top;\n",
       "    }\n",
       "\n",
       "    .dataframe thead th {\n",
       "        text-align: right;\n",
       "    }\n",
       "</style>\n",
       "<table border=\"1\" class=\"dataframe\">\n",
       "  <thead>\n",
       "    <tr style=\"text-align: right;\">\n",
       "      <th></th>\n",
       "      <th>datetime x segment_id</th>\n",
       "      <th>datetime</th>\n",
       "      <th>segment_id</th>\n",
       "      <th>y</th>\n",
       "      <th>day</th>\n",
       "      <th>min</th>\n",
       "      <th>longitude</th>\n",
       "      <th>latitude</th>\n",
       "      <th>period</th>\n",
       "    </tr>\n",
       "  </thead>\n",
       "  <tbody>\n",
       "    <tr>\n",
       "      <th>0</th>\n",
       "      <td>2017-01-01 00:00:00 x S0B3CGQ</td>\n",
       "      <td>2017-01-01 00:00:00</td>\n",
       "      <td>S0B3CGQ</td>\n",
       "      <td>0</td>\n",
       "      <td>Sunday</td>\n",
       "      <td>0</td>\n",
       "      <td>18.541422</td>\n",
       "      <td>-33.888613</td>\n",
       "      <td>Late Night</td>\n",
       "    </tr>\n",
       "    <tr>\n",
       "      <th>1</th>\n",
       "      <td>2017-01-01 01:00:00 x S0B3CGQ</td>\n",
       "      <td>2017-01-01 01:00:00</td>\n",
       "      <td>S0B3CGQ</td>\n",
       "      <td>0</td>\n",
       "      <td>Sunday</td>\n",
       "      <td>60</td>\n",
       "      <td>18.541422</td>\n",
       "      <td>-33.888613</td>\n",
       "      <td>Late Night</td>\n",
       "    </tr>\n",
       "    <tr>\n",
       "      <th>2</th>\n",
       "      <td>2017-01-01 02:00:00 x S0B3CGQ</td>\n",
       "      <td>2017-01-01 02:00:00</td>\n",
       "      <td>S0B3CGQ</td>\n",
       "      <td>0</td>\n",
       "      <td>Sunday</td>\n",
       "      <td>120</td>\n",
       "      <td>18.541422</td>\n",
       "      <td>-33.888613</td>\n",
       "      <td>Late Night</td>\n",
       "    </tr>\n",
       "    <tr>\n",
       "      <th>3</th>\n",
       "      <td>2017-01-01 03:00:00 x S0B3CGQ</td>\n",
       "      <td>2017-01-01 03:00:00</td>\n",
       "      <td>S0B3CGQ</td>\n",
       "      <td>0</td>\n",
       "      <td>Sunday</td>\n",
       "      <td>180</td>\n",
       "      <td>18.541422</td>\n",
       "      <td>-33.888613</td>\n",
       "      <td>Late Night</td>\n",
       "    </tr>\n",
       "    <tr>\n",
       "      <th>4</th>\n",
       "      <td>2017-01-01 04:00:00 x S0B3CGQ</td>\n",
       "      <td>2017-01-01 04:00:00</td>\n",
       "      <td>S0B3CGQ</td>\n",
       "      <td>0</td>\n",
       "      <td>Sunday</td>\n",
       "      <td>240</td>\n",
       "      <td>18.541422</td>\n",
       "      <td>-33.888613</td>\n",
       "      <td>Early Morning</td>\n",
       "    </tr>\n",
       "  </tbody>\n",
       "</table>\n",
       "</div>"
      ],
      "text/plain": [
       "           datetime x segment_id            datetime segment_id  y     day  \\\n",
       "0  2017-01-01 00:00:00 x S0B3CGQ 2017-01-01 00:00:00    S0B3CGQ  0  Sunday   \n",
       "1  2017-01-01 01:00:00 x S0B3CGQ 2017-01-01 01:00:00    S0B3CGQ  0  Sunday   \n",
       "2  2017-01-01 02:00:00 x S0B3CGQ 2017-01-01 02:00:00    S0B3CGQ  0  Sunday   \n",
       "3  2017-01-01 03:00:00 x S0B3CGQ 2017-01-01 03:00:00    S0B3CGQ  0  Sunday   \n",
       "4  2017-01-01 04:00:00 x S0B3CGQ 2017-01-01 04:00:00    S0B3CGQ  0  Sunday   \n",
       "\n",
       "   min  longitude   latitude         period  \n",
       "0    0  18.541422 -33.888613     Late Night  \n",
       "1   60  18.541422 -33.888613     Late Night  \n",
       "2  120  18.541422 -33.888613     Late Night  \n",
       "3  180  18.541422 -33.888613     Late Night  \n",
       "4  240  18.541422 -33.888613  Early Morning  "
      ]
     },
     "execution_count": 4,
     "metadata": {},
     "output_type": "execute_result"
    }
   ],
   "source": [
    "# turn variables into usable output\n",
    "\n",
    "#datetime\n",
    "from datetime import datetime\n",
    "train[\"datetime\"] = pd.to_datetime(train['datetime'])\n",
    "train['period'] = (train['datetime'].dt.hour % 24 + 4) // 4\n",
    "train['period'].replace({1: 'Late Night',\n",
    "                      2: 'Early Morning',\n",
    "                      3: 'Morning',\n",
    "                      4: 'Noon',\n",
    "                      5: 'Evening',\n",
    "                      6: 'Night'}, inplace=True)\n",
    "train[\"period\"] = train[\"period\"].astype('category')\n",
    "# longitude                      object\n",
    "df = train[train.longitude != \"Closed\"] # there are 5 rows which have 'closed' as the value instead of longitude, in my opinion this is nowhere near enough data lost to warrant imputation or similar\n",
    "train[\"longitude\"] = train[\"longitude\"].astype(float)\n",
    "# latitude                      float64\n",
    "    # fine\n",
    "# road_segment_id                object\n",
    "train[\"segment_id\"] = train[\"segment_id\"].astype('category')\n",
    "train.head()"
   ]
  },
  {
   "cell_type": "code",
   "execution_count": 5,
   "metadata": {},
   "outputs": [
    {
     "name": "stderr",
     "output_type": "stream",
     "text": [
      "/Applications/anaconda3/lib/python3.7/site-packages/pandas/core/ops/array_ops.py:253: FutureWarning: elementwise comparison failed; returning scalar instead, but in the future will perform elementwise comparison\n",
      "  res_values = method(rvalues)\n"
     ]
    },
    {
     "data": {
      "text/html": [
       "<div>\n",
       "<style scoped>\n",
       "    .dataframe tbody tr th:only-of-type {\n",
       "        vertical-align: middle;\n",
       "    }\n",
       "\n",
       "    .dataframe tbody tr th {\n",
       "        vertical-align: top;\n",
       "    }\n",
       "\n",
       "    .dataframe thead th {\n",
       "        text-align: right;\n",
       "    }\n",
       "</style>\n",
       "<table border=\"1\" class=\"dataframe\">\n",
       "  <thead>\n",
       "    <tr style=\"text-align: right;\">\n",
       "      <th></th>\n",
       "      <th>datetime x segment_id</th>\n",
       "      <th>datetime</th>\n",
       "      <th>segment_id</th>\n",
       "      <th>y</th>\n",
       "      <th>day</th>\n",
       "      <th>min</th>\n",
       "      <th>longitude</th>\n",
       "      <th>latitude</th>\n",
       "      <th>period</th>\n",
       "    </tr>\n",
       "  </thead>\n",
       "  <tbody>\n",
       "    <tr>\n",
       "      <th>0</th>\n",
       "      <td>2018-09-01 00:00:00 x S0B3CGQ</td>\n",
       "      <td>2018-09-01 00:00:00</td>\n",
       "      <td>S0B3CGQ</td>\n",
       "      <td>0</td>\n",
       "      <td>Sunday</td>\n",
       "      <td>0</td>\n",
       "      <td>18.541422</td>\n",
       "      <td>-33.888613</td>\n",
       "      <td>Late Night</td>\n",
       "    </tr>\n",
       "    <tr>\n",
       "      <th>1</th>\n",
       "      <td>2018-09-01 01:00:00 x S0B3CGQ</td>\n",
       "      <td>2018-09-01 01:00:00</td>\n",
       "      <td>S0B3CGQ</td>\n",
       "      <td>0</td>\n",
       "      <td>Monday</td>\n",
       "      <td>1260</td>\n",
       "      <td>18.541422</td>\n",
       "      <td>-33.888613</td>\n",
       "      <td>Late Night</td>\n",
       "    </tr>\n",
       "    <tr>\n",
       "      <th>2</th>\n",
       "      <td>2018-09-01 02:00:00 x S0B3CGQ</td>\n",
       "      <td>2018-09-01 02:00:00</td>\n",
       "      <td>S0B3CGQ</td>\n",
       "      <td>0</td>\n",
       "      <td>Wednesday</td>\n",
       "      <td>1080</td>\n",
       "      <td>18.541422</td>\n",
       "      <td>-33.888613</td>\n",
       "      <td>Late Night</td>\n",
       "    </tr>\n",
       "    <tr>\n",
       "      <th>3</th>\n",
       "      <td>2018-09-01 03:00:00 x S0B3CGQ</td>\n",
       "      <td>2018-09-01 03:00:00</td>\n",
       "      <td>S0B3CGQ</td>\n",
       "      <td>0</td>\n",
       "      <td>Friday</td>\n",
       "      <td>900</td>\n",
       "      <td>18.541422</td>\n",
       "      <td>-33.888613</td>\n",
       "      <td>Late Night</td>\n",
       "    </tr>\n",
       "    <tr>\n",
       "      <th>4</th>\n",
       "      <td>2018-09-01 04:00:00 x S0B3CGQ</td>\n",
       "      <td>2018-09-01 04:00:00</td>\n",
       "      <td>S0B3CGQ</td>\n",
       "      <td>0</td>\n",
       "      <td>Sunday</td>\n",
       "      <td>720</td>\n",
       "      <td>18.541422</td>\n",
       "      <td>-33.888613</td>\n",
       "      <td>Early Morning</td>\n",
       "    </tr>\n",
       "  </tbody>\n",
       "</table>\n",
       "</div>"
      ],
      "text/plain": [
       "           datetime x segment_id            datetime segment_id  y        day  \\\n",
       "0  2018-09-01 00:00:00 x S0B3CGQ 2018-09-01 00:00:00    S0B3CGQ  0     Sunday   \n",
       "1  2018-09-01 01:00:00 x S0B3CGQ 2018-09-01 01:00:00    S0B3CGQ  0     Monday   \n",
       "2  2018-09-01 02:00:00 x S0B3CGQ 2018-09-01 02:00:00    S0B3CGQ  0  Wednesday   \n",
       "3  2018-09-01 03:00:00 x S0B3CGQ 2018-09-01 03:00:00    S0B3CGQ  0     Friday   \n",
       "4  2018-09-01 04:00:00 x S0B3CGQ 2018-09-01 04:00:00    S0B3CGQ  0     Sunday   \n",
       "\n",
       "    min  longitude   latitude         period  \n",
       "0     0  18.541422 -33.888613     Late Night  \n",
       "1  1260  18.541422 -33.888613     Late Night  \n",
       "2  1080  18.541422 -33.888613     Late Night  \n",
       "3   900  18.541422 -33.888613     Late Night  \n",
       "4   720  18.541422 -33.888613  Early Morning  "
      ]
     },
     "execution_count": 5,
     "metadata": {},
     "output_type": "execute_result"
    }
   ],
   "source": [
    "test[\"datetime\"] = pd.to_datetime(test['datetime'])\n",
    "test['period'] = (test['datetime'].dt.hour % 24 + 4) // 4\n",
    "test['period'].replace({1: 'Late Night',\n",
    "                      2: 'Early Morning',\n",
    "                      3: 'Morning',\n",
    "                      4: 'Noon',\n",
    "                      5: 'Evening',\n",
    "                      6: 'Night'}, inplace=True)\n",
    "test[\"period\"] = test[\"period\"].astype('category')\n",
    "# longitude                      object\n",
    "df = test[test.longitude != \"Closed\"] # there are 5 rows which have 'closed' as the value instead of longitude, in my opinion this is nowhere near enough data lost to warrant imputation or similar\n",
    "test[\"longitude\"] = test[\"longitude\"].astype(float)\n",
    "# latitude                      float64\n",
    "    # fine\n",
    "# road_segment_id                object\n",
    "test[\"segment_id\"] = test[\"segment_id\"].astype('category')\n",
    "test.head()"
   ]
  },
  {
   "cell_type": "markdown",
   "metadata": {},
   "source": [
    "#### Step 2: Add weather predictors to data frame"
   ]
  },
  {
   "cell_type": "code",
   "execution_count": 6,
   "metadata": {},
   "outputs": [
    {
     "data": {
      "text/html": [
       "<div>\n",
       "<style scoped>\n",
       "    .dataframe tbody tr th:only-of-type {\n",
       "        vertical-align: middle;\n",
       "    }\n",
       "\n",
       "    .dataframe tbody tr th {\n",
       "        vertical-align: top;\n",
       "    }\n",
       "\n",
       "    .dataframe thead th {\n",
       "        text-align: right;\n",
       "    }\n",
       "</style>\n",
       "<table border=\"1\" class=\"dataframe\">\n",
       "  <thead>\n",
       "    <tr style=\"text-align: right;\">\n",
       "      <th></th>\n",
       "      <th>datetime</th>\n",
       "      <th>windirect</th>\n",
       "      <th>maxgust</th>\n",
       "    </tr>\n",
       "  </thead>\n",
       "  <tbody>\n",
       "    <tr>\n",
       "      <th>11084</th>\n",
       "      <td>2016-01-08 02:00:00</td>\n",
       "      <td>Wind blowing from the north-west</td>\n",
       "      <td>6.0</td>\n",
       "    </tr>\n",
       "    <tr>\n",
       "      <th>11083</th>\n",
       "      <td>2016-01-08 05:00:00</td>\n",
       "      <td>Wind blowing from the east</td>\n",
       "      <td>3.0</td>\n",
       "    </tr>\n",
       "    <tr>\n",
       "      <th>11082</th>\n",
       "      <td>2016-01-08 11:00:00</td>\n",
       "      <td>Wind blowing from the south</td>\n",
       "      <td>2.0</td>\n",
       "    </tr>\n",
       "    <tr>\n",
       "      <th>11081</th>\n",
       "      <td>2016-01-08 14:00:00</td>\n",
       "      <td>Wind blowing from the north-northwest</td>\n",
       "      <td>4.0</td>\n",
       "    </tr>\n",
       "    <tr>\n",
       "      <th>11080</th>\n",
       "      <td>2016-01-08 17:00:00</td>\n",
       "      <td>Calm, no wind</td>\n",
       "      <td>1.0</td>\n",
       "    </tr>\n",
       "  </tbody>\n",
       "</table>\n",
       "</div>"
      ],
      "text/plain": [
       "                 datetime                              windirect  maxgust\n",
       "11084 2016-01-08 02:00:00       Wind blowing from the north-west      6.0\n",
       "11083 2016-01-08 05:00:00             Wind blowing from the east      3.0\n",
       "11082 2016-01-08 11:00:00            Wind blowing from the south      2.0\n",
       "11081 2016-01-08 14:00:00  Wind blowing from the north-northwest      4.0\n",
       "11080 2016-01-08 17:00:00                          Calm, no wind      1.0"
      ]
     },
     "execution_count": 6,
     "metadata": {},
     "output_type": "execute_result"
    }
   ],
   "source": [
    "weather = pd.read_csv(\"weather_new.csv\", parse_dates = ['Local time in Cape Town / Molteno Reservoir'])\n",
    "weather = weather.sort_values(by =['Local time in Cape Town / Molteno Reservoir'])\n",
    "weather.rename(columns = {'Local time in Cape Town / Molteno Reservoir':'datetime'}, inplace = True)\n",
    "weather.rename(columns = {'air temperature':'airtemp'}, inplace = True)\n",
    "weather.rename(columns = {'stmospheric pressure':'atmospres'}, inplace = True)\n",
    "weather.rename(columns = {'relative humidity':'relhumid'}, inplace = True)\n",
    "weather.rename(columns = {'wind direction':'windirect'}, inplace = True)\n",
    "weather.rename(columns = {'maximum gust value':'maxgust'}, inplace = True)\n",
    "weather.rename(columns = {'maximum air temperature':'maxair'}, inplace = True)\n",
    "weather.rename(columns = {'minimum air temperature':'minair'}, inplace = True)\n",
    "weather = weather.drop([\"atmospres\", 'Pa', 'Td', \"airtemp\", \"relhumid\", \"maxair\", \"minair\"], axis = 1)\n",
    "weather.head()"
   ]
  },
  {
   "cell_type": "code",
   "execution_count": 7,
   "metadata": {},
   "outputs": [
    {
     "name": "stdout",
     "output_type": "stream",
     "text": [
      "Calm, no wind                            1534\n",
      "Wind blowing from the west-southwest     1212\n",
      "Wind blowing from the west               1149\n",
      "Wind blowing from the south-east         1025\n",
      "Wind blowing from the south-southeast     921\n",
      "Wind blowing from the south               673\n",
      "Wind blowing from the west-northwest      663\n",
      "Wind blowing from the north-northeast     572\n",
      "Wind blowing from the south-west          515\n",
      "Wind blowing from the north-west          477\n",
      "Wind blowing from the east-southeast      454\n",
      "Wind blowing from the north               422\n",
      "Wind blowing from the north-east          380\n",
      "Wind blowing from the south-southwest     357\n",
      "Wind blowing from the east                337\n",
      "Wind blowing from the north-northwest     293\n",
      "Wind blowing from the east-northeast      244\n",
      "Name: windirect, dtype: int64\n"
     ]
    }
   ],
   "source": [
    "# change wind to boolean\n",
    "a = weather.windirect.value_counts()\n",
    "print (a)"
   ]
  },
  {
   "cell_type": "code",
   "execution_count": 8,
   "metadata": {},
   "outputs": [
    {
     "name": "stdout",
     "output_type": "stream",
     "text": [
      "Index(['Calm, no wind'], dtype='object')\n"
     ]
    }
   ],
   "source": [
    "#get first value of index\n",
    "vals = a[:1].index\n",
    "print (vals)"
   ]
  },
  {
   "cell_type": "code",
   "execution_count": 9,
   "metadata": {},
   "outputs": [
    {
     "name": "stdout",
     "output_type": "stream",
     "text": [
      "                 datetime  maxgust  windirectnew\n",
      "11084 2016-01-08 02:00:00      6.0             1\n",
      "11083 2016-01-08 05:00:00      3.0             1\n",
      "11082 2016-01-08 11:00:00      2.0             1\n",
      "11081 2016-01-08 14:00:00      4.0             1\n",
      "11080 2016-01-08 17:00:00      1.0             0\n",
      "...                   ...      ...           ...\n",
      "80    2020-12-07 11:00:00      4.0             1\n",
      "79    2020-12-07 14:00:00      6.0             1\n",
      "78    2020-12-07 17:00:00     11.0             1\n",
      "77    2020-12-07 20:00:00      8.0             1\n",
      "76    2020-12-07 23:00:00     11.0             1\n",
      "\n",
      "[11228 rows x 3 columns]\n"
     ]
    }
   ],
   "source": [
    "weather['windirectnew'] = np.where(weather.windirect.isin(vals), 0,1)\n",
    "weather = weather.drop([\"windirect\"], axis = 1)\n",
    "print (weather)"
   ]
  },
  {
   "cell_type": "code",
   "execution_count": 10,
   "metadata": {},
   "outputs": [
    {
     "data": {
      "text/html": [
       "<div>\n",
       "<style scoped>\n",
       "    .dataframe tbody tr th:only-of-type {\n",
       "        vertical-align: middle;\n",
       "    }\n",
       "\n",
       "    .dataframe tbody tr th {\n",
       "        vertical-align: top;\n",
       "    }\n",
       "\n",
       "    .dataframe thead th {\n",
       "        text-align: right;\n",
       "    }\n",
       "</style>\n",
       "<table border=\"1\" class=\"dataframe\">\n",
       "  <thead>\n",
       "    <tr style=\"text-align: right;\">\n",
       "      <th></th>\n",
       "      <th>datetime</th>\n",
       "      <th>maxgust</th>\n",
       "      <th>windirectnew</th>\n",
       "    </tr>\n",
       "  </thead>\n",
       "  <tbody>\n",
       "    <tr>\n",
       "      <th>4369</th>\n",
       "      <td>2018-12-31 11:00:00</td>\n",
       "      <td>6.0</td>\n",
       "      <td>1</td>\n",
       "    </tr>\n",
       "    <tr>\n",
       "      <th>4368</th>\n",
       "      <td>2018-12-31 14:00:00</td>\n",
       "      <td>5.0</td>\n",
       "      <td>1</td>\n",
       "    </tr>\n",
       "    <tr>\n",
       "      <th>4367</th>\n",
       "      <td>2018-12-31 17:00:00</td>\n",
       "      <td>7.0</td>\n",
       "      <td>1</td>\n",
       "    </tr>\n",
       "    <tr>\n",
       "      <th>4366</th>\n",
       "      <td>2018-12-31 20:00:00</td>\n",
       "      <td>5.0</td>\n",
       "      <td>1</td>\n",
       "    </tr>\n",
       "    <tr>\n",
       "      <th>4365</th>\n",
       "      <td>2018-12-31 23:00:00</td>\n",
       "      <td>1.0</td>\n",
       "      <td>0</td>\n",
       "    </tr>\n",
       "  </tbody>\n",
       "</table>\n",
       "</div>"
      ],
      "text/plain": [
       "                datetime  maxgust  windirectnew\n",
       "4369 2018-12-31 11:00:00      6.0             1\n",
       "4368 2018-12-31 14:00:00      5.0             1\n",
       "4367 2018-12-31 17:00:00      7.0             1\n",
       "4366 2018-12-31 20:00:00      5.0             1\n",
       "4365 2018-12-31 23:00:00      1.0             0"
      ]
     },
     "execution_count": 10,
     "metadata": {},
     "output_type": "execute_result"
    }
   ],
   "source": [
    "# combine the weather and test and train data frames\n",
    "weather = weather.fillna(1.0)\n",
    "weather[\"datetime\"] = pd.to_datetime(weather['datetime'])\n",
    "train.sort_values('datetime', inplace=True)\n",
    "test.sort_values('datetime', inplace=True)\n",
    "weather.sort_values('datetime', inplace=True)\n",
    "\n",
    "# create weather train and weather test splits\n",
    "# Train on 2017\n",
    "weathertrain = weather.loc[weather['datetime'] < '2018-01-01']\n",
    "weathertrain = weathertrain.loc[weather['datetime'] >= '2017-01-01']\n",
    "weathertest = weather.loc[weather['datetime'] < '2019-01-01']\n",
    "weathertest = weathertest.loc[weather['datetime'] >= '2018-09-01']\n",
    "weathertest.tail()"
   ]
  },
  {
   "cell_type": "code",
   "execution_count": 11,
   "metadata": {},
   "outputs": [],
   "source": [
    "# impute average gust value via resampling (easiest way to add weather data, more complex ways could capture nuance of data better)\n",
    "# impute average wind gust for day over data \n",
    "weathertrain = weathertrain.resample(\"1D\", on = \"datetime\").mean()\n",
    "weathertest = weathertest.resample(\"1D\", on = \"datetime\").mean()"
   ]
  },
  {
   "cell_type": "code",
   "execution_count": 12,
   "metadata": {},
   "outputs": [],
   "source": [
    "weathertrain = weathertrain.resample('H').pad()\n",
    "weathertest = weathertest.resample('H').pad()"
   ]
  },
  {
   "cell_type": "code",
   "execution_count": 13,
   "metadata": {},
   "outputs": [],
   "source": [
    "train1 = pd.merge_asof(weathertrain, train, on=\"datetime\") \n",
    "#windirect new = percentage of time during day that there was wind\n",
    "test1 = pd.merge_asof(weathertest, test, on=\"datetime\")"
   ]
  },
  {
   "cell_type": "code",
   "execution_count": 14,
   "metadata": {
    "scrolled": true
   },
   "outputs": [
    {
     "data": {
      "text/html": [
       "<div>\n",
       "<style scoped>\n",
       "    .dataframe tbody tr th:only-of-type {\n",
       "        vertical-align: middle;\n",
       "    }\n",
       "\n",
       "    .dataframe tbody tr th {\n",
       "        vertical-align: top;\n",
       "    }\n",
       "\n",
       "    .dataframe thead th {\n",
       "        text-align: right;\n",
       "    }\n",
       "</style>\n",
       "<table border=\"1\" class=\"dataframe\">\n",
       "  <thead>\n",
       "    <tr style=\"text-align: right;\">\n",
       "      <th></th>\n",
       "      <th>datetime</th>\n",
       "      <th>maxgust</th>\n",
       "      <th>windirectnew</th>\n",
       "      <th>datetime x segment_id</th>\n",
       "      <th>segment_id</th>\n",
       "      <th>y</th>\n",
       "      <th>day</th>\n",
       "      <th>min</th>\n",
       "      <th>longitude</th>\n",
       "      <th>latitude</th>\n",
       "      <th>period</th>\n",
       "    </tr>\n",
       "  </thead>\n",
       "  <tbody>\n",
       "    <tr>\n",
       "      <th>0</th>\n",
       "      <td>2017-01-01 00:00:00</td>\n",
       "      <td>3.75</td>\n",
       "      <td>0.75</td>\n",
       "      <td>2017-01-01 00:00:00 x IQEYE3S</td>\n",
       "      <td>IQEYE3S</td>\n",
       "      <td>0</td>\n",
       "      <td>Sunday</td>\n",
       "      <td>0</td>\n",
       "      <td>18.677575</td>\n",
       "      <td>-33.897557</td>\n",
       "      <td>Late Night</td>\n",
       "    </tr>\n",
       "    <tr>\n",
       "      <th>1</th>\n",
       "      <td>2017-01-01 01:00:00</td>\n",
       "      <td>3.75</td>\n",
       "      <td>0.75</td>\n",
       "      <td>2017-01-01 01:00:00 x PRRLPFL</td>\n",
       "      <td>PRRLPFL</td>\n",
       "      <td>0</td>\n",
       "      <td>Sunday</td>\n",
       "      <td>60</td>\n",
       "      <td>18.446153</td>\n",
       "      <td>-33.933016</td>\n",
       "      <td>Late Night</td>\n",
       "    </tr>\n",
       "    <tr>\n",
       "      <th>2</th>\n",
       "      <td>2017-01-01 02:00:00</td>\n",
       "      <td>3.75</td>\n",
       "      <td>0.75</td>\n",
       "      <td>2017-01-01 02:00:00 x J8FAZRB</td>\n",
       "      <td>J8FAZRB</td>\n",
       "      <td>0</td>\n",
       "      <td>Sunday</td>\n",
       "      <td>120</td>\n",
       "      <td>18.947550</td>\n",
       "      <td>-33.782653</td>\n",
       "      <td>Late Night</td>\n",
       "    </tr>\n",
       "    <tr>\n",
       "      <th>3</th>\n",
       "      <td>2017-01-01 03:00:00</td>\n",
       "      <td>3.75</td>\n",
       "      <td>0.75</td>\n",
       "      <td>2017-01-01 03:00:00 x 8YJIRQ2</td>\n",
       "      <td>8YJIRQ2</td>\n",
       "      <td>0</td>\n",
       "      <td>Sunday</td>\n",
       "      <td>180</td>\n",
       "      <td>18.803257</td>\n",
       "      <td>-33.816684</td>\n",
       "      <td>Late Night</td>\n",
       "    </tr>\n",
       "    <tr>\n",
       "      <th>4</th>\n",
       "      <td>2017-01-01 04:00:00</td>\n",
       "      <td>3.75</td>\n",
       "      <td>0.75</td>\n",
       "      <td>2017-01-01 04:00:00 x C0RCCDP</td>\n",
       "      <td>C0RCCDP</td>\n",
       "      <td>0</td>\n",
       "      <td>Sunday</td>\n",
       "      <td>240</td>\n",
       "      <td>18.856803</td>\n",
       "      <td>-33.801712</td>\n",
       "      <td>Early Morning</td>\n",
       "    </tr>\n",
       "  </tbody>\n",
       "</table>\n",
       "</div>"
      ],
      "text/plain": [
       "             datetime  maxgust  windirectnew          datetime x segment_id  \\\n",
       "0 2017-01-01 00:00:00     3.75          0.75  2017-01-01 00:00:00 x IQEYE3S   \n",
       "1 2017-01-01 01:00:00     3.75          0.75  2017-01-01 01:00:00 x PRRLPFL   \n",
       "2 2017-01-01 02:00:00     3.75          0.75  2017-01-01 02:00:00 x J8FAZRB   \n",
       "3 2017-01-01 03:00:00     3.75          0.75  2017-01-01 03:00:00 x 8YJIRQ2   \n",
       "4 2017-01-01 04:00:00     3.75          0.75  2017-01-01 04:00:00 x C0RCCDP   \n",
       "\n",
       "  segment_id  y     day  min  longitude   latitude         period  \n",
       "0    IQEYE3S  0  Sunday    0  18.677575 -33.897557     Late Night  \n",
       "1    PRRLPFL  0  Sunday   60  18.446153 -33.933016     Late Night  \n",
       "2    J8FAZRB  0  Sunday  120  18.947550 -33.782653     Late Night  \n",
       "3    8YJIRQ2  0  Sunday  180  18.803257 -33.816684     Late Night  \n",
       "4    C0RCCDP  0  Sunday  240  18.856803 -33.801712  Early Morning  "
      ]
     },
     "execution_count": 14,
     "metadata": {},
     "output_type": "execute_result"
    }
   ],
   "source": [
    "train1.head()"
   ]
  },
  {
   "cell_type": "code",
   "execution_count": 15,
   "metadata": {},
   "outputs": [
    {
     "data": {
      "text/html": [
       "<div>\n",
       "<style scoped>\n",
       "    .dataframe tbody tr th:only-of-type {\n",
       "        vertical-align: middle;\n",
       "    }\n",
       "\n",
       "    .dataframe tbody tr th {\n",
       "        vertical-align: top;\n",
       "    }\n",
       "\n",
       "    .dataframe thead th {\n",
       "        text-align: right;\n",
       "    }\n",
       "</style>\n",
       "<table border=\"1\" class=\"dataframe\">\n",
       "  <thead>\n",
       "    <tr style=\"text-align: right;\">\n",
       "      <th></th>\n",
       "      <th>datetime</th>\n",
       "      <th>maxgust</th>\n",
       "      <th>windirectnew</th>\n",
       "      <th>datetime x segment_id</th>\n",
       "      <th>segment_id</th>\n",
       "      <th>y</th>\n",
       "      <th>day</th>\n",
       "      <th>min</th>\n",
       "      <th>longitude</th>\n",
       "      <th>latitude</th>\n",
       "      <th>period</th>\n",
       "    </tr>\n",
       "  </thead>\n",
       "  <tbody>\n",
       "    <tr>\n",
       "      <th>0</th>\n",
       "      <td>2018-09-01 00:00:00</td>\n",
       "      <td>9.625</td>\n",
       "      <td>1.0</td>\n",
       "      <td>2018-09-01 00:00:00 x PV3AVCT</td>\n",
       "      <td>PV3AVCT</td>\n",
       "      <td>0</td>\n",
       "      <td>Wednesday</td>\n",
       "      <td>900</td>\n",
       "      <td>18.937523</td>\n",
       "      <td>-33.785420</td>\n",
       "      <td>Late Night</td>\n",
       "    </tr>\n",
       "    <tr>\n",
       "      <th>1</th>\n",
       "      <td>2018-09-01 01:00:00</td>\n",
       "      <td>9.625</td>\n",
       "      <td>1.0</td>\n",
       "      <td>2018-09-01 01:00:00 x GLFV0XV</td>\n",
       "      <td>GLFV0XV</td>\n",
       "      <td>0</td>\n",
       "      <td>Monday</td>\n",
       "      <td>300</td>\n",
       "      <td>18.976542</td>\n",
       "      <td>-33.761882</td>\n",
       "      <td>Late Night</td>\n",
       "    </tr>\n",
       "    <tr>\n",
       "      <th>2</th>\n",
       "      <td>2018-09-01 02:00:00</td>\n",
       "      <td>9.625</td>\n",
       "      <td>1.0</td>\n",
       "      <td>2018-09-01 02:00:00 x NCMIGB7</td>\n",
       "      <td>NCMIGB7</td>\n",
       "      <td>0</td>\n",
       "      <td>Saturday</td>\n",
       "      <td>840</td>\n",
       "      <td>18.614003</td>\n",
       "      <td>-34.016828</td>\n",
       "      <td>Late Night</td>\n",
       "    </tr>\n",
       "    <tr>\n",
       "      <th>3</th>\n",
       "      <td>2018-09-01 03:00:00</td>\n",
       "      <td>9.625</td>\n",
       "      <td>1.0</td>\n",
       "      <td>2018-09-01 03:00:00 x DZABHQW</td>\n",
       "      <td>DZABHQW</td>\n",
       "      <td>0</td>\n",
       "      <td>Friday</td>\n",
       "      <td>1320</td>\n",
       "      <td>18.635994</td>\n",
       "      <td>-34.002236</td>\n",
       "      <td>Late Night</td>\n",
       "    </tr>\n",
       "    <tr>\n",
       "      <th>4</th>\n",
       "      <td>2018-09-01 04:00:00</td>\n",
       "      <td>9.625</td>\n",
       "      <td>1.0</td>\n",
       "      <td>2018-09-01 04:00:00 x X9J910I</td>\n",
       "      <td>X9J910I</td>\n",
       "      <td>0</td>\n",
       "      <td>Monday</td>\n",
       "      <td>1080</td>\n",
       "      <td>18.929649</td>\n",
       "      <td>-34.144853</td>\n",
       "      <td>Early Morning</td>\n",
       "    </tr>\n",
       "  </tbody>\n",
       "</table>\n",
       "</div>"
      ],
      "text/plain": [
       "             datetime  maxgust  windirectnew          datetime x segment_id  \\\n",
       "0 2018-09-01 00:00:00    9.625           1.0  2018-09-01 00:00:00 x PV3AVCT   \n",
       "1 2018-09-01 01:00:00    9.625           1.0  2018-09-01 01:00:00 x GLFV0XV   \n",
       "2 2018-09-01 02:00:00    9.625           1.0  2018-09-01 02:00:00 x NCMIGB7   \n",
       "3 2018-09-01 03:00:00    9.625           1.0  2018-09-01 03:00:00 x DZABHQW   \n",
       "4 2018-09-01 04:00:00    9.625           1.0  2018-09-01 04:00:00 x X9J910I   \n",
       "\n",
       "  segment_id  y        day   min  longitude   latitude         period  \n",
       "0    PV3AVCT  0  Wednesday   900  18.937523 -33.785420     Late Night  \n",
       "1    GLFV0XV  0     Monday   300  18.976542 -33.761882     Late Night  \n",
       "2    NCMIGB7  0   Saturday   840  18.614003 -34.016828     Late Night  \n",
       "3    DZABHQW  0     Friday  1320  18.635994 -34.002236     Late Night  \n",
       "4    X9J910I  0     Monday  1080  18.929649 -34.144853  Early Morning  "
      ]
     },
     "execution_count": 15,
     "metadata": {},
     "output_type": "execute_result"
    }
   ],
   "source": [
    "test1.head()"
   ]
  },
  {
   "cell_type": "markdown",
   "metadata": {},
   "source": [
    "Modelling. Approach 1."
   ]
  },
  {
   "cell_type": "markdown",
   "metadata": {},
   "source": [
    "Use the model from the StarterNotebook - CatBoost"
   ]
  },
  {
   "cell_type": "code",
   "execution_count": 16,
   "metadata": {},
   "outputs": [
    {
     "data": {
      "text/plain": [
       "datetime                 datetime64[ns]\n",
       "maxgust                         float64\n",
       "windirectnew                    float64\n",
       "datetime x segment_id            object\n",
       "segment_id                     category\n",
       "y                                 int64\n",
       "day                              object\n",
       "min                               int64\n",
       "longitude                       float64\n",
       "latitude                        float64\n",
       "period                         category\n",
       "dtype: object"
      ]
     },
     "execution_count": 16,
     "metadata": {},
     "output_type": "execute_result"
    }
   ],
   "source": [
    "train1.dtypes"
   ]
  },
  {
   "cell_type": "code",
   "execution_count": 17,
   "metadata": {},
   "outputs": [],
   "source": [
    "from catboost import CatBoostClassifier"
   ]
  },
  {
   "cell_type": "code",
   "execution_count": 18,
   "metadata": {},
   "outputs": [],
   "source": [
    "CatBoostClassifier?"
   ]
  },
  {
   "cell_type": "code",
   "execution_count": 19,
   "metadata": {},
   "outputs": [],
   "source": [
    "model = CatBoostClassifier(iterations=100, \n",
    "                           loss_function='Logloss',\n",
    "                           random_seed = 42,\n",
    "                           verbose=False) \n",
    "\n",
    "x_cols = ['maxgust', 'windirectnew', 'segment_id', 'day', 'min', 'longitude', 'latitude', 'period']\n",
    "cat_cols = ['segment_id', 'day', 'period']"
   ]
  },
  {
   "cell_type": "code",
   "execution_count": 20,
   "metadata": {},
   "outputs": [
    {
     "data": {
      "text/plain": [
       "<catboost.core.CatBoostClassifier at 0x7fde0f3ac190>"
      ]
     },
     "execution_count": 20,
     "metadata": {},
     "output_type": "execute_result"
    }
   ],
   "source": [
    "model.fit(train1[x_cols], train1['y'], cat_features=cat_cols)"
   ]
  },
  {
   "cell_type": "code",
   "execution_count": 21,
   "metadata": {},
   "outputs": [
    {
     "data": {
      "text/plain": [
       "0.016282812396145496"
      ]
     },
     "execution_count": 21,
     "metadata": {},
     "output_type": "execute_result"
    }
   ],
   "source": [
    "from sklearn.metrics import log_loss\n",
    "log_loss(train1['y'], model.predict_proba(train1[x_cols])[:, 1])"
   ]
  },
  {
   "cell_type": "code",
   "execution_count": 22,
   "metadata": {},
   "outputs": [
    {
     "data": {
      "text/plain": [
       "0.10278221200271104"
      ]
     },
     "execution_count": 22,
     "metadata": {},
     "output_type": "execute_result"
    }
   ],
   "source": [
    "# What about just predicting 0s?\n",
    "log_loss(train1['y'], [0 for y in train1['y']])"
   ]
  },
  {
   "cell_type": "code",
   "execution_count": 23,
   "metadata": {},
   "outputs": [
    {
     "data": {
      "text/plain": [
       "0.02836824004287106"
      ]
     },
     "execution_count": 23,
     "metadata": {},
     "output_type": "execute_result"
    }
   ],
   "source": [
    "log_loss(test1['y'], model.predict_proba(test1[x_cols])[:, 1])\n",
    "\n",
    "# not too bad - only slightly worse than for train"
   ]
  },
  {
   "cell_type": "markdown",
   "metadata": {},
   "source": [
    "F1 metric"
   ]
  },
  {
   "cell_type": "code",
   "execution_count": 24,
   "metadata": {},
   "outputs": [
    {
     "data": {
      "text/plain": [
       "0.0"
      ]
     },
     "execution_count": 24,
     "metadata": {},
     "output_type": "execute_result"
    }
   ],
   "source": [
    "# First, just using .predict\n",
    "from sklearn.metrics import f1_score\n",
    "f1_score(test1['y'], model.predict(test1[x_cols]))"
   ]
  },
  {
   "cell_type": "code",
   "execution_count": 25,
   "metadata": {},
   "outputs": [
    {
     "data": {
      "text/html": [
       "<div>\n",
       "<style scoped>\n",
       "    .dataframe tbody tr th:only-of-type {\n",
       "        vertical-align: middle;\n",
       "    }\n",
       "\n",
       "    .dataframe tbody tr th {\n",
       "        vertical-align: top;\n",
       "    }\n",
       "\n",
       "    .dataframe thead th {\n",
       "        text-align: right;\n",
       "    }\n",
       "</style>\n",
       "<table border=\"1\" class=\"dataframe\">\n",
       "  <thead>\n",
       "    <tr style=\"text-align: right;\">\n",
       "      <th></th>\n",
       "      <th>datetime</th>\n",
       "      <th>maxgust</th>\n",
       "      <th>windirectnew</th>\n",
       "      <th>datetime x segment_id</th>\n",
       "      <th>segment_id</th>\n",
       "      <th>y</th>\n",
       "      <th>day</th>\n",
       "      <th>min</th>\n",
       "      <th>longitude</th>\n",
       "      <th>latitude</th>\n",
       "      <th>period</th>\n",
       "      <th>pred</th>\n",
       "      <th>gt005</th>\n",
       "    </tr>\n",
       "  </thead>\n",
       "  <tbody>\n",
       "    <tr>\n",
       "      <th>0</th>\n",
       "      <td>2018-09-01 00:00:00</td>\n",
       "      <td>9.625</td>\n",
       "      <td>1.0</td>\n",
       "      <td>2018-09-01 00:00:00 x PV3AVCT</td>\n",
       "      <td>PV3AVCT</td>\n",
       "      <td>0</td>\n",
       "      <td>Wednesday</td>\n",
       "      <td>900</td>\n",
       "      <td>18.937523</td>\n",
       "      <td>-33.785420</td>\n",
       "      <td>Late Night</td>\n",
       "      <td>0.000814</td>\n",
       "      <td>0</td>\n",
       "    </tr>\n",
       "    <tr>\n",
       "      <th>1</th>\n",
       "      <td>2018-09-01 01:00:00</td>\n",
       "      <td>9.625</td>\n",
       "      <td>1.0</td>\n",
       "      <td>2018-09-01 01:00:00 x GLFV0XV</td>\n",
       "      <td>GLFV0XV</td>\n",
       "      <td>0</td>\n",
       "      <td>Monday</td>\n",
       "      <td>300</td>\n",
       "      <td>18.976542</td>\n",
       "      <td>-33.761882</td>\n",
       "      <td>Late Night</td>\n",
       "      <td>0.000965</td>\n",
       "      <td>0</td>\n",
       "    </tr>\n",
       "    <tr>\n",
       "      <th>2</th>\n",
       "      <td>2018-09-01 02:00:00</td>\n",
       "      <td>9.625</td>\n",
       "      <td>1.0</td>\n",
       "      <td>2018-09-01 02:00:00 x NCMIGB7</td>\n",
       "      <td>NCMIGB7</td>\n",
       "      <td>0</td>\n",
       "      <td>Saturday</td>\n",
       "      <td>840</td>\n",
       "      <td>18.614003</td>\n",
       "      <td>-34.016828</td>\n",
       "      <td>Late Night</td>\n",
       "      <td>0.002554</td>\n",
       "      <td>0</td>\n",
       "    </tr>\n",
       "    <tr>\n",
       "      <th>3</th>\n",
       "      <td>2018-09-01 03:00:00</td>\n",
       "      <td>9.625</td>\n",
       "      <td>1.0</td>\n",
       "      <td>2018-09-01 03:00:00 x DZABHQW</td>\n",
       "      <td>DZABHQW</td>\n",
       "      <td>0</td>\n",
       "      <td>Friday</td>\n",
       "      <td>1320</td>\n",
       "      <td>18.635994</td>\n",
       "      <td>-34.002236</td>\n",
       "      <td>Late Night</td>\n",
       "      <td>0.003208</td>\n",
       "      <td>0</td>\n",
       "    </tr>\n",
       "    <tr>\n",
       "      <th>4</th>\n",
       "      <td>2018-09-01 04:00:00</td>\n",
       "      <td>9.625</td>\n",
       "      <td>1.0</td>\n",
       "      <td>2018-09-01 04:00:00 x X9J910I</td>\n",
       "      <td>X9J910I</td>\n",
       "      <td>0</td>\n",
       "      <td>Monday</td>\n",
       "      <td>1080</td>\n",
       "      <td>18.929649</td>\n",
       "      <td>-34.144853</td>\n",
       "      <td>Early Morning</td>\n",
       "      <td>0.001001</td>\n",
       "      <td>0</td>\n",
       "    </tr>\n",
       "  </tbody>\n",
       "</table>\n",
       "</div>"
      ],
      "text/plain": [
       "             datetime  maxgust  windirectnew          datetime x segment_id  \\\n",
       "0 2018-09-01 00:00:00    9.625           1.0  2018-09-01 00:00:00 x PV3AVCT   \n",
       "1 2018-09-01 01:00:00    9.625           1.0  2018-09-01 01:00:00 x GLFV0XV   \n",
       "2 2018-09-01 02:00:00    9.625           1.0  2018-09-01 02:00:00 x NCMIGB7   \n",
       "3 2018-09-01 03:00:00    9.625           1.0  2018-09-01 03:00:00 x DZABHQW   \n",
       "4 2018-09-01 04:00:00    9.625           1.0  2018-09-01 04:00:00 x X9J910I   \n",
       "\n",
       "  segment_id  y        day   min  longitude   latitude         period  \\\n",
       "0    PV3AVCT  0  Wednesday   900  18.937523 -33.785420     Late Night   \n",
       "1    GLFV0XV  0     Monday   300  18.976542 -33.761882     Late Night   \n",
       "2    NCMIGB7  0   Saturday   840  18.614003 -34.016828     Late Night   \n",
       "3    DZABHQW  0     Friday  1320  18.635994 -34.002236     Late Night   \n",
       "4    X9J910I  0     Monday  1080  18.929649 -34.144853  Early Morning   \n",
       "\n",
       "       pred  gt005  \n",
       "0  0.000814      0  \n",
       "1  0.000965      0  \n",
       "2  0.002554      0  \n",
       "3  0.003208      0  \n",
       "4  0.001001      0  "
      ]
     },
     "execution_count": 25,
     "metadata": {},
     "output_type": "execute_result"
    }
   ],
   "source": [
    "# Let's predict 1 even if the prob is just > 0.005\n",
    "test1['pred'] = model.predict_proba(test1[x_cols])[:,1]\n",
    "test1['gt005'] = (test1['pred']>0.005).astype(int)\n",
    "test1.head()"
   ]
  },
  {
   "cell_type": "code",
   "execution_count": 26,
   "metadata": {},
   "outputs": [
    {
     "data": {
      "text/plain": [
       "0.01176470588235294"
      ]
     },
     "execution_count": 26,
     "metadata": {},
     "output_type": "execute_result"
    }
   ],
   "source": [
    "f1_score(test1['y'], test1['gt005'])\n",
    "\n",
    "# Interesting... the value seems to be extremely low, which is not great. We want f1 score to be as close to 1 as possible."
   ]
  },
  {
   "cell_type": "code",
   "execution_count": null,
   "metadata": {},
   "outputs": [],
   "source": []
  },
  {
   "cell_type": "code",
   "execution_count": null,
   "metadata": {},
   "outputs": [],
   "source": []
  },
  {
   "cell_type": "code",
   "execution_count": null,
   "metadata": {},
   "outputs": [],
   "source": []
  },
  {
   "cell_type": "code",
   "execution_count": null,
   "metadata": {},
   "outputs": [],
   "source": []
  },
  {
   "cell_type": "code",
   "execution_count": null,
   "metadata": {},
   "outputs": [],
   "source": []
  },
  {
   "cell_type": "code",
   "execution_count": null,
   "metadata": {},
   "outputs": [],
   "source": []
  },
  {
   "cell_type": "code",
   "execution_count": null,
   "metadata": {},
   "outputs": [],
   "source": []
  },
  {
   "cell_type": "code",
   "execution_count": null,
   "metadata": {},
   "outputs": [],
   "source": []
  },
  {
   "cell_type": "code",
   "execution_count": null,
   "metadata": {},
   "outputs": [],
   "source": []
  },
  {
   "cell_type": "code",
   "execution_count": null,
   "metadata": {},
   "outputs": [],
   "source": []
  },
  {
   "cell_type": "code",
   "execution_count": null,
   "metadata": {},
   "outputs": [],
   "source": []
  },
  {
   "cell_type": "code",
   "execution_count": null,
   "metadata": {},
   "outputs": [],
   "source": []
  },
  {
   "cell_type": "code",
   "execution_count": null,
   "metadata": {},
   "outputs": [],
   "source": []
  },
  {
   "cell_type": "code",
   "execution_count": 27,
   "metadata": {},
   "outputs": [
    {
     "name": "stderr",
     "output_type": "stream",
     "text": [
      "/Applications/anaconda3/lib/python3.7/site-packages/lightgbm/__init__.py:48: UserWarning: Starting from version 2.2.1, the library file in distribution wheels for macOS is built by the Apple Clang (Xcode_8.3.3) compiler.\n",
      "This means that in case of installing LightGBM from PyPI via the ``pip install lightgbm`` command, you don't need to install the gcc compiler anymore.\n",
      "Instead of that, you need to install the OpenMP library, which is required for running LightGBM on the system with the Apple Clang compiler.\n",
      "You can install the OpenMP library by the following command: ``brew install libomp``.\n",
      "  \"You can install the OpenMP library by the following command: ``brew install libomp``.\", UserWarning)\n"
     ]
    }
   ],
   "source": [
    "import numpy as np\n",
    "import lightgbm as lgb"
   ]
  },
  {
   "cell_type": "code",
   "execution_count": 33,
   "metadata": {},
   "outputs": [],
   "source": [
    "model_lgb = lgb.LGBMClassifier(learning_rate = 0.003,\n",
    "                               boosting_type = 'gbdt',\n",
    "                               objective = 'binary',\n",
    "                               metric = 'binary_logloss',\n",
    "                               sub_feature = 0.5,\n",
    "                               num_leaves = 15,\n",
    "                               min_data = 50,\n",
    "                               max_depth = -1)\n",
    "\n",
    "x_cols = ['maxgust', 'windirectnew', 'segment_id', 'min', 'longitude', 'latitude', 'period']\n",
    "cat_cols = ['segment_id', 'day', 'period']"
   ]
  },
  {
   "cell_type": "code",
   "execution_count": 34,
   "metadata": {},
   "outputs": [
    {
     "data": {
      "text/plain": [
       "LGBMClassifier(learning_rate=0.003, metric='binary_logloss', min_data=50,\n",
       "               num_leaves=15, objective='binary', sub_feature=0.5)"
      ]
     },
     "execution_count": 34,
     "metadata": {},
     "output_type": "execute_result"
    }
   ],
   "source": [
    "model_lgb.fit(train1[x_cols], train1['y'])"
   ]
  },
  {
   "cell_type": "code",
   "execution_count": null,
   "metadata": {},
   "outputs": [],
   "source": [
    "#that does not look right"
   ]
  },
  {
   "cell_type": "code",
   "execution_count": 37,
   "metadata": {},
   "outputs": [],
   "source": [
    "y_pred=model_lgb.predict(test1[x_cols])\n",
    "\n",
    "for i in range(0,1):\n",
    "    if y_pred[i]>=.005:       # setting threshold to .5\n",
    "       y_pred[i]=1\n",
    "    else:  \n",
    "       y_pred[i]=0"
   ]
  },
  {
   "cell_type": "code",
   "execution_count": 39,
   "metadata": {},
   "outputs": [],
   "source": [
    "from sklearn.metrics import confusion_matrix\n",
    "cm = confusion_matrix(test1['y'], y_pred)\n",
    "#Accuracy\n",
    "from sklearn.metrics import accuracy_score\n",
    "accuracy=accuracy_score(y_pred, test1['y'])"
   ]
  },
  {
   "cell_type": "code",
   "execution_count": 40,
   "metadata": {},
   "outputs": [
    {
     "data": {
      "text/plain": [
       "array([[2892,    0],\n",
       "       [  13,    0]])"
      ]
     },
     "execution_count": 40,
     "metadata": {},
     "output_type": "execute_result"
    }
   ],
   "source": [
    "cm"
   ]
  },
  {
   "cell_type": "code",
   "execution_count": 41,
   "metadata": {},
   "outputs": [
    {
     "data": {
      "text/plain": [
       "0.9955249569707401"
      ]
     },
     "execution_count": 41,
     "metadata": {},
     "output_type": "execute_result"
    }
   ],
   "source": [
    "accuracy\n",
    "\n",
    "#are you sure about that"
   ]
  },
  {
   "cell_type": "code",
   "execution_count": null,
   "metadata": {},
   "outputs": [],
   "source": []
  },
  {
   "cell_type": "code",
   "execution_count": null,
   "metadata": {},
   "outputs": [],
   "source": []
  },
  {
   "cell_type": "code",
   "execution_count": null,
   "metadata": {},
   "outputs": [],
   "source": []
  },
  {
   "cell_type": "code",
   "execution_count": null,
   "metadata": {},
   "outputs": [],
   "source": []
  },
  {
   "cell_type": "code",
   "execution_count": null,
   "metadata": {},
   "outputs": [],
   "source": []
  },
  {
   "cell_type": "code",
   "execution_count": null,
   "metadata": {},
   "outputs": [],
   "source": []
  },
  {
   "cell_type": "code",
   "execution_count": null,
   "metadata": {},
   "outputs": [],
   "source": []
  },
  {
   "cell_type": "code",
   "execution_count": null,
   "metadata": {},
   "outputs": [],
   "source": []
  },
  {
   "cell_type": "code",
   "execution_count": null,
   "metadata": {},
   "outputs": [],
   "source": []
  },
  {
   "cell_type": "code",
   "execution_count": null,
   "metadata": {},
   "outputs": [],
   "source": []
  },
  {
   "cell_type": "code",
   "execution_count": null,
   "metadata": {},
   "outputs": [],
   "source": []
  },
  {
   "cell_type": "code",
   "execution_count": null,
   "metadata": {},
   "outputs": [],
   "source": []
  },
  {
   "cell_type": "code",
   "execution_count": null,
   "metadata": {},
   "outputs": [],
   "source": []
  },
  {
   "cell_type": "code",
   "execution_count": null,
   "metadata": {},
   "outputs": [],
   "source": [
    "import imblearn"
   ]
  },
  {
   "cell_type": "code",
   "execution_count": null,
   "metadata": {},
   "outputs": [],
   "source": []
  },
  {
   "cell_type": "code",
   "execution_count": null,
   "metadata": {},
   "outputs": [],
   "source": []
  },
  {
   "cell_type": "code",
   "execution_count": null,
   "metadata": {},
   "outputs": [],
   "source": []
  },
  {
   "cell_type": "code",
   "execution_count": null,
   "metadata": {},
   "outputs": [],
   "source": []
  },
  {
   "cell_type": "code",
   "execution_count": null,
   "metadata": {},
   "outputs": [],
   "source": []
  },
  {
   "cell_type": "code",
   "execution_count": null,
   "metadata": {},
   "outputs": [],
   "source": []
  },
  {
   "cell_type": "code",
   "execution_count": null,
   "metadata": {},
   "outputs": [],
   "source": []
  }
 ],
 "metadata": {
  "kernelspec": {
   "display_name": "Python 3",
   "language": "python",
   "name": "python3"
  },
  "language_info": {
   "codemirror_mode": {
    "name": "ipython",
    "version": 3
   },
   "file_extension": ".py",
   "mimetype": "text/x-python",
   "name": "python",
   "nbconvert_exporter": "python",
   "pygments_lexer": "ipython3",
   "version": "3.7.6"
  }
 },
 "nbformat": 4,
 "nbformat_minor": 4
}
